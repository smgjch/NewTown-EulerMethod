{
 "cells": [
  {
   "cell_type": "code",
   "execution_count": 11,
   "id": "dca3ffc0",
   "metadata": {},
   "outputs": [],
   "source": [
    "from matplotlib import pyplot as plt\n",
    "import numpy as np\n",
    "import sympy as sym\n",
    "import math "
   ]
  },
  {
   "cell_type": "markdown",
   "id": "0c0ba06b",
   "metadata": {},
   "source": [
    "We first define our parameters: starting point, accuracy tolerance. We also initialise a list of values for the horizontal coordinates of our points. We also define a maximum number of iterations. Why do we need this safety net?"
   ]
  },
  {
   "cell_type": "code",
   "execution_count": 12,
   "id": "9b21eece",
   "metadata": {},
   "outputs": [],
   "source": [
    "#Starting Point\n",
    "a=5;\n",
    "#Accuracy Tolerance\n",
    "d=0.0001;\n",
    "#list of values\n",
    "L=[a];\n",
    "#Maximum number of iterations\n",
    "k=1000"
   ]
  },
  {
   "cell_type": "markdown",
   "id": "5a4bee2f",
   "metadata": {},
   "source": [
    "We now define our function by using Python's symbolic math tools."
   ]
  },
  {
   "cell_type": "code",
   "execution_count": 13,
   "id": "1cc8f6db",
   "metadata": {},
   "outputs": [],
   "source": [
    "#define our function\n",
    "x=sym.Symbol('x');\n",
    "f=x-sym.cos(x);\n",
    "df=sym.diff(f);"
   ]
  },
  {
   "cell_type": "markdown",
   "id": "4a6bc183",
   "metadata": {},
   "source": [
    "We now implement Newton's Method. Our algorithm needs to return a list of values L (the horizontal coordinates of the points) in which the last value is our approximation of the zero of the considered function. "
   ]
  },
  {
   "cell_type": "code",
   "execution_count": 14,
   "id": "2f175a47",
   "metadata": {},
   "outputs": [],
   "source": [
    "#We start with the first step\n",
    "b=a-(f.subs(x,a))/(df.subs(x, a));\n",
    "L.append(float(b));\n",
    "i=1\n",
    "\n",
    "#Now we write the loop describing the iterations of Newton's Method.\n",
    "while (abs(f.subs(x,b))>d and i<k):\n",
    "    b=L[i]-(f.subs(x,L[i]))/(df.subs(x, L[i]));\n",
    "    L.append(float(b));\n",
    "    i=i+1;\n",
    "#print(L)"
   ]
  },
  {
   "cell_type": "markdown",
   "id": "b765510c",
   "metadata": {},
   "source": [
    "We will now implement the plotting of our results in order to visualise our calculations. We also plot the graph of the function and output some text describing our results."
   ]
  },
  {
   "cell_type": "code",
   "execution_count": 15,
   "id": "2f6e7d0d",
   "metadata": {},
   "outputs": [
    {
     "name": "stdout",
     "output_type": "stream",
     "text": [
      "The zero of the function is reached for x= 0.7390858937572404\n",
      "The computation required 39  steps.\n"
     ]
    },
    {
     "data": {
      "image/png": "[encoded data removed]",
      "text/plain": [
       "<Figure size 432x288 with 1 Axes>"
      ]
     },
     "metadata": {
      "needs_background": "light"
     },
     "output_type": "display_data"
    }
   ],
   "source": [
    "Ly=L.copy();\n",
    "#Lx[0]=float(f.subs(x, Lx[0]));\n",
    "\n",
    "for j in range(len(Ly)):\n",
    "   Ly[j]=float(f.subs(x, Ly[j]));\n",
    "\n",
    "#Range to plot the function\n",
    "Fx=np.arange (-2, 3, 0.05);\n",
    "Fy=Fx.copy();\n",
    "\n",
    "for j in range(len(Fx)):\n",
    "   Fy[j]=float(f.subs(x, Fy[j]));\n",
    "\n",
    "#print(L);\n",
    "#print(Ly);\n",
    "minx=L[len(L)-1];\n",
    "miny=Ly[len(Ly)-1];\n",
    "print('The zero of the function is reached for x=', minx);\n",
    "print('The computation required', len(L), ' steps.');\n",
    "plt.plot(Fx, Fy);\n",
    "plt.plot(L, Ly);\n",
    "plt.plot(minx, miny, marker=\"o\", markersize=5, markeredgecolor=\"red\",\n",
    "markerfacecolor=\"red\");\n",
    "\n",
    "\n",
    "\n",
    "plt.show()"
   ]
  },
  {
   "cell_type": "code",
   "execution_count": null,
   "id": "88f4fd3c",
   "metadata": {},
   "outputs": [],
   "source": []
  }
 ],
 "metadata": {
  "kernelspec": {
   "display_name": "Python 3",
   "language": "python",
   "name": "python3"
  },
  "language_info": {
   "codemirror_mode": {
    "name": "ipython",
    "version": 3
   },
   "file_extension": ".py",
   "mimetype": "text/x-python",
   "name": "python",
   "nbconvert_exporter": "python",
   "pygments_lexer": "ipython3",
   "version": "3.8.5"
  }
 },
 "nbformat": 4,
 "nbformat_minor": 5
}
