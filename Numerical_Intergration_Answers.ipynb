{
 "cells": [
  {
   "cell_type": "code",
   "execution_count": 25,
   "id": "7cb4d5a1",
   "metadata": {},
   "outputs": [],
   "source": [
    "from matplotlib import pyplot as plt\n",
    "import numpy as np\n",
    "import sympy as sym\n",
    "import math "
   ]
  },
  {
   "cell_type": "markdown",
   "id": "3a165ec4",
   "metadata": {},
   "source": [
    "We first define our function by using symbolic math tools."
   ]
  },
  {
   "cell_type": "code",
   "execution_count": 26,
   "id": "2f0b3fec",
   "metadata": {},
   "outputs": [],
   "source": [
    "#define our function\n",
    "x=sym.Symbol('x');\n",
    "f=x**2"
   ]
  },
  {
   "cell_type": "markdown",
   "id": "5a0179f2",
   "metadata": {},
   "source": [
    "Now we implement the rectangle rule, taking as inputs a function, the range of integration, and the number of subdivisions.\n",
    "**Rectangle Rule:**"
   ]
  },
  {
   "cell_type": "code",
   "execution_count": 27,
   "id": "c3ec9769",
   "metadata": {
    "tags": []
   },
   "outputs": [],
   "source": [
    "def rectangle(f1,a1,b1,n1):\n",
    "    x1=a1;\n",
    "    y1=f.subs(x,a1);\n",
    "    h=(b1-a1)/n1;\n",
    "    Int=0;\n",
    "    for i in range(n1):\n",
    "        Int=Int+h*y1;\n",
    "        x1=x1+h;\n",
    "        y1=f.subs(x,x1);\n",
    "    return Int;"
   ]
  },
  {
   "cell_type": "markdown",
   "id": "335724d2",
   "metadata": {},
   "source": [
    "Now we implement the rectangle rule, taking as inputs a function, the range of integration, and the number of subdivisions.\n",
    "**Trapezoid Rule:**"
   ]
  },
  {
   "cell_type": "code",
   "execution_count": 28,
   "id": "832a87f6",
   "metadata": {},
   "outputs": [],
   "source": [
    "def trapezoid(f1,a1,b1,n1):\n",
    "    x1=a1;\n",
    "    y1=f.subs(x,a1);\n",
    "    h=(b1-a1)/n1;\n",
    "    Int=0;\n",
    "    for i in range(n1):\n",
    "        Int=Int+(h/2)*(y1+f.subs(x,x1+h))\n",
    "        x1=x1+h;\n",
    "        y1=f.subs(x,x1);\n",
    "    return Int;"
   ]
  },
  {
   "cell_type": "code",
   "execution_count": 29,
   "id": "6b53865e",
   "metadata": {},
   "outputs": [
    {
     "name": "stdout",
     "output_type": "stream",
     "text": [
      "0.332833500000001\n"
     ]
    }
   ],
   "source": [
    "print(rectangle(f,0,1,1000));"
   ]
  },
  {
   "cell_type": "code",
   "execution_count": 30,
   "id": "aef023eb",
   "metadata": {},
   "outputs": [
    {
     "name": "stdout",
     "output_type": "stream",
     "text": [
      "0.333333500000000\n"
     ]
    }
   ],
   "source": [
    "print(trapezoid(f,0,1,1000));"
   ]
  },
  {
   "cell_type": "markdown",
   "id": "46285dcb",
   "metadata": {},
   "source": [
    "Compare the results and the accuracy of both methods."
   ]
  }
 ],
 "metadata": {
  "kernelspec": {
   "display_name": "Python 3",
   "language": "python",
   "name": "python3"
  },
  "language_info": {
   "codemirror_mode": {
    "name": "ipython",
    "version": 3
   },
   "file_extension": ".py",
   "mimetype": "text/x-python",
   "name": "python",
   "nbconvert_exporter": "python",
   "pygments_lexer": "ipython3",
   "version": "3.8.5"
  }
 },
 "nbformat": 4,
 "nbformat_minor": 5
}
